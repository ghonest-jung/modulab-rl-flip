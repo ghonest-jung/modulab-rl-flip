{
  "nbformat": 4,
  "nbformat_minor": 0,
  "metadata": {
    "colab": {
      "provenance": [],
      "authorship_tag": "ABX9TyOWG9eTj+Dy2X2mC9mofuFx"
    },
    "kernelspec": {
      "name": "python3",
      "display_name": "Python 3"
    },
    "language_info": {
      "name": "python"
    }
  },
  "cells": [
    {
      "cell_type": "markdown",
      "source": [
        "Backward process of max operation"
      ],
      "metadata": {
        "id": "l2RFCXUbqkG3"
      }
    },
    {
      "cell_type": "code",
      "execution_count": 1,
      "metadata": {
        "id": "hjJ64IDmjXQ2"
      },
      "outputs": [],
      "source": [
        "import torch\n",
        "import torch.nn as nn\n",
        "import torch.optim as optim\n",
        "import torch.nn.functional as F\n",
        "from torchsummary import summary\n",
        "\n",
        "device = torch.device(\"cuda\" if torch.cuda.is_available() else \"cpu\")"
      ]
    },
    {
      "cell_type": "code",
      "source": [
        "class DQN(nn.Module):\n",
        "\n",
        "    def __init__(self):\n",
        "        super(DQN, self).__init__()\n",
        "        self.layer1 = nn.Linear(3, 4)\n",
        "        self.layer2 = nn.Linear(4, 4)\n",
        "        self.layer3 = nn.Linear(4, 2)\n",
        "\n",
        "    def forward(self, x):\n",
        "        x = self.layer1(x)\n",
        "        x = self.layer2(x)\n",
        "        return self.layer3(x)"
      ],
      "metadata": {
        "id": "Kg1W2mDVjbhx"
      },
      "execution_count": 2,
      "outputs": []
    },
    {
      "cell_type": "code",
      "source": [
        "policy_net = DQN().to(device)\n",
        "policy_net.eval()"
      ],
      "metadata": {
        "colab": {
          "base_uri": "https://localhost:8080/"
        },
        "id": "6Ylcj-A6jnO4",
        "outputId": "a7c46e67-bf92-440b-970f-c90bb16d8e15"
      },
      "execution_count": 3,
      "outputs": [
        {
          "output_type": "execute_result",
          "data": {
            "text/plain": [
              "DQN(\n",
              "  (layer1): Linear(in_features=3, out_features=4, bias=True)\n",
              "  (layer2): Linear(in_features=4, out_features=4, bias=True)\n",
              "  (layer3): Linear(in_features=4, out_features=2, bias=True)\n",
              ")"
            ]
          },
          "metadata": {},
          "execution_count": 3
        }
      ]
    },
    {
      "cell_type": "code",
      "source": [
        "print(summary(policy_net, (1,3)))"
      ],
      "metadata": {
        "colab": {
          "base_uri": "https://localhost:8080/"
        },
        "id": "2HJL8-_hjuxB",
        "outputId": "87c3dd30-1905-4884-b08c-b296eeaf5077"
      },
      "execution_count": 4,
      "outputs": [
        {
          "output_type": "stream",
          "name": "stdout",
          "text": [
            "----------------------------------------------------------------\n",
            "        Layer (type)               Output Shape         Param #\n",
            "================================================================\n",
            "            Linear-1                 [-1, 1, 4]              16\n",
            "            Linear-2                 [-1, 1, 4]              20\n",
            "            Linear-3                 [-1, 1, 2]              10\n",
            "================================================================\n",
            "Total params: 46\n",
            "Trainable params: 46\n",
            "Non-trainable params: 0\n",
            "----------------------------------------------------------------\n",
            "Input size (MB): 0.00\n",
            "Forward/backward pass size (MB): 0.00\n",
            "Params size (MB): 0.00\n",
            "Estimated Total Size (MB): 0.00\n",
            "----------------------------------------------------------------\n",
            "None\n"
          ]
        }
      ]
    },
    {
      "cell_type": "code",
      "source": [
        "optimizer = optim.AdamW(policy_net.parameters(), lr=0.1, amsgrad=True)"
      ],
      "metadata": {
        "id": "5PpSo15plekX"
      },
      "execution_count": 5,
      "outputs": []
    },
    {
      "cell_type": "code",
      "source": [
        "input_tensor = torch.tensor([0.1,0.2,0.3])\n",
        "output = policy_net(input_tensor)\n",
        "y_hat = policy_net(input_tensor).max()\n",
        "\n",
        "y_gt = torch.tensor(0.5)\n",
        "\n",
        "criterion = nn.MSELoss()\n",
        "loss = criterion(y_gt, y_hat)\n",
        "\n",
        "print(\"before\")\n",
        "for param in policy_net.parameters():\n",
        "  print(param.data)\n",
        "\n",
        "loss.backward()\n",
        "optimizer.step()\n",
        "\n",
        "print(\"after\")\n",
        "for param in policy_net.parameters():\n",
        "  print(param.data)\n",
        "\n",
        "\n",
        "print(\"backward gradient\")\n",
        "print(\"layer1\")\n",
        "print(policy_net.layer1.weight.grad) \n",
        "print(policy_net.layer1.bias.grad)\n",
        "print(\"layer2\")\n",
        "print(policy_net.layer2.weight.grad) \n",
        "print(policy_net.layer2.bias.grad)\n",
        "print(\"layer3\")\n",
        "print(policy_net.layer3.weight.grad) \n",
        "print(policy_net.layer3.bias.grad)"
      ],
      "metadata": {
        "colab": {
          "base_uri": "https://localhost:8080/"
        },
        "id": "bLALh1tZkRHA",
        "outputId": "07760f16-0b97-4485-91ce-7e2624d4196d"
      },
      "execution_count": 7,
      "outputs": [
        {
          "output_type": "stream",
          "name": "stdout",
          "text": [
            "before\n",
            "tensor([[ 0.3824,  0.4544,  0.3511],\n",
            "        [-0.3611, -0.3277,  0.5049],\n",
            "        [ 0.0302, -0.0337,  0.4506],\n",
            "        [-0.2599,  0.3161,  0.4811]])\n",
            "tensor([ 0.2709, -0.3419,  0.1466, -0.1668])\n",
            "tensor([[-0.1680,  0.1856, -0.1609,  0.2015],\n",
            "        [ 0.1425,  0.1235,  0.2672, -0.3600],\n",
            "        [-0.2259, -0.0553,  0.1915, -0.0637],\n",
            "        [-0.4439, -0.2527,  0.1881,  0.2743]])\n",
            "tensor([ 0.0328, -0.0654, -0.2330, -0.4830])\n",
            "tensor([[ 0.1031, -0.2284,  0.1467, -0.3482],\n",
            "        [ 0.4068,  0.3217,  0.0539, -0.2354]])\n",
            "tensor([ 0.3963, -0.2409])\n",
            "after\n",
            "tensor([[ 0.2820,  0.3539,  0.2507],\n",
            "        [-0.2609, -0.2274,  0.6043],\n",
            "        [-0.0698, -0.1335,  0.3502],\n",
            "        [-0.1596,  0.4158,  0.5806]])\n",
            "tensor([ 0.1706, -0.2416,  0.0466, -0.0667])\n",
            "tensor([[-0.0679,  0.0854, -0.0608,  0.1013],\n",
            "        [ 0.0425,  0.2233,  0.1670, -0.2597],\n",
            "        [-0.1258, -0.1552,  0.2912, -0.1637],\n",
            "        [-0.5432, -0.1527,  0.0881,  0.3740]])\n",
            "tensor([ 0.1326, -0.1652, -0.1329, -0.5821])\n",
            "tensor([[ 0.0031, -0.1281,  0.0466, -0.4474],\n",
            "        [ 0.4064,  0.3214,  0.0538, -0.2352]])\n",
            "tensor([ 0.4957, -0.2407])\n",
            "backward gradient\n",
            "layer1\n",
            "tensor([[ 0.0132,  0.0264,  0.0396],\n",
            "        [-0.0142, -0.0285, -0.0427],\n",
            "        [ 0.0212,  0.0425,  0.0637],\n",
            "        [-0.0176, -0.0352, -0.0528]])\n",
            "tensor([ 0.1321, -0.1424,  0.2124, -0.1759])\n",
            "layer2\n",
            "tensor([[-0.1301,  0.0887, -0.0860,  0.0292],\n",
            "        [ 0.2084, -0.1423,  0.1380, -0.0473],\n",
            "        [-0.1573,  0.1074, -0.1041,  0.0355],\n",
            "        [ 0.1518, -0.1043,  0.1012, -0.0359]])\n",
            "tensor([-0.1938,  0.3093, -0.2340,  0.2225])\n",
            "layer3\n",
            "tensor([[ 0.5165, -0.4053,  0.5104,  0.3097],\n",
            "        [-0.0000,  0.0000, -0.0000, -0.0000]])\n",
            "tensor([-0.9215,  0.0000])\n"
          ]
        }
      ]
    },
    {
      "cell_type": "code",
      "source": [],
      "metadata": {
        "id": "EvlKl4GEqSDj"
      },
      "execution_count": null,
      "outputs": []
    }
  ]
}